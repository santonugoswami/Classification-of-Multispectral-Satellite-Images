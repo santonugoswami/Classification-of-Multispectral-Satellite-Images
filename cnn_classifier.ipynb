{
  "nbformat": 4,
  "nbformat_minor": 0,
  "metadata": {
    "colab": {
      "name": "cnn-classifier.ipynb",
      "provenance": [],
      "include_colab_link": true
    },
    "kernelspec": {
      "name": "python3",
      "display_name": "Python 3"
    },
    "accelerator": "GPU"
  },
  "cells": [
    {
      "cell_type": "markdown",
      "metadata": {
        "id": "view-in-github",
        "colab_type": "text"
      },
      "source": [
        "<a href=\"https://colab.research.google.com/github/santonugoswami/Classification-of-Multispectral-Satellite-Images/blob/master/cnn_classifier.ipynb\" target=\"_parent\"><img src=\"https://colab.research.google.com/assets/colab-badge.svg\" alt=\"Open In Colab\"/></a>"
      ]
    },
    {
      "cell_type": "code",
      "metadata": {
        "id": "rDeffuhqw1H5",
        "colab_type": "code",
        "colab": {}
      },
      "source": [
        "#   A hands-on tutorial from Analytics Vidhya to build your own convolutional neural network (CNN) in PyTorch\n",
        "#   We will be working on an image classification problem – a classic and widely used application of CNNs\n",
        "#   This is part of Analytics Vidhya’s series on PyTorch where we introduce deep learning concepts in a practical format\n"
      ],
      "execution_count": 0,
      "outputs": []
    },
    {
      "cell_type": "code",
      "metadata": {
        "id": "_zx5Ac5TxduK",
        "colab_type": "code",
        "colab": {}
      },
      "source": [
        ""
      ],
      "execution_count": 0,
      "outputs": []
    }
  ]
}